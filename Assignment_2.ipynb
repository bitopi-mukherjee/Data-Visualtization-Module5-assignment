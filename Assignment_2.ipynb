{
 "cells": [
  {
   "cell_type": "code",
   "execution_count": 27,
   "id": "dd267604-6e42-40f6-ba7b-fd23c5e4715e",
   "metadata": {},
   "outputs": [],
   "source": [
    "#!/usr/bin/env python\n",
    "# coding: utf-8\n",
    "\n",
    "# In[ ]:\n",
    "\n",
    "\n",
    "import dash\n",
    "from dash import dcc\n",
    "from dash import html\n",
    "from dash.dependencies import Input, Output\n",
    "import pandas as pd\n",
    "import plotly.graph_objs as go\n",
    "import plotly.express as px"
   ]
  },
  {
   "cell_type": "code",
   "execution_count": 28,
   "id": "92ee9ccc-5867-411d-ab1d-9bc33e474ecb",
   "metadata": {},
   "outputs": [],
   "source": [
    "\n",
    "# Load the data using pandas\n",
    "data = pd.read_csv('https://cf-courses-data.s3.us.cloud-object-storage.appdomain.cloud/IBMDeveloperSkillsNetwork-DV0101EN-SkillsNetwork/Data%20Files/historical_automobile_sales.csv')\n",
    "\n",
    "# Initialize the Dash app\n",
    "app = dash.Dash(__name__)\n",
    "\n",
    "# Set the title of the dashboard\n",
    "app.title = \"Automobile Statistics Dashboard\""
   ]
  },
  {
   "cell_type": "code",
   "execution_count": 29,
   "id": "28bd62a9-4466-441c-aa69-9a891b99c178",
   "metadata": {},
   "outputs": [],
   "source": [
    "#---------------------------------------------------------------------------------\n",
    "# Create the dropdown menu options\n",
    "dropdown_options = [\n",
    "    {'label': 'Yearly Statistics', 'value': 'Yearly Statistics'},\n",
    "    {'label': 'Recession Period Statistics', 'value': 'Recession Period Statistics'}\n",
    "]\n",
    "# List of years \n",
    "year_list = [i for i in range(1980, 2024, 1)]"
   ]
  },
  {
   "cell_type": "code",
   "execution_count": 30,
   "id": "717a423d-2028-4471-98bf-d2759e947e90",
   "metadata": {},
   "outputs": [],
   "source": [
    "#---------------------------------------------------------------------------------------\n",
    "# Create the layout of the app\n",
    "app.layout = html.Div([\n",
    "    #TASK 2.1 Add title to the dashboard\n",
    "    html.H1(\"Automobile Statistics Dashboard\", style={\"textAlign\": \"center\", \"color\": \"#503D36\", \"font-size\": 24}),\n",
    "    html.Div([#TASK 2.2: Add two dropdown menus\n",
    "        html.Label(\"Select Statistics:\"),\n",
    "        dcc.Dropdown(\n",
    "            id='dropdown-statistics',\n",
    "            options=dropdown_options,\n",
    "            value='Select Statistics',\n",
    "            placeholder='Select a report type',\n",
    "            style={'width': '80%', 'padding': 3, 'text-align-last': 'center', 'font-size': 20}\n",
    "        )\n",
    "    ]),\n",
    "    html.Div(dcc.Dropdown(\n",
    "        id='select-year',\n",
    "        options=[{'label': i, 'value': i} for i in year_list],\n",
    "        value=\"Select Year\",  # Set to the first year in the list\n",
    "        style={'width': '80%', 'padding': 3, 'text-align-last': 'center', 'font-size': 20}\n",
    "    )),\n",
    "    html.Div(id='output-container', className='chart-grid', style={\"display\": \"flex\"})\n",
    "])\n"
   ]
  },
  {
   "cell_type": "code",
   "execution_count": 31,
   "id": "bdc9ec97-6ab0-47e3-93a2-a52252562b14",
   "metadata": {},
   "outputs": [],
   "source": [
    "\n",
    "#TASK 2.4: Creating Callbacks\n",
    "# Define the callback function to update the input container based on the selected statistics\n",
    "@app.callback(\n",
    "    Output(component_id='select-year', component_property='disabled'),\n",
    "    Input(component_id='dropdown-statistics',component_property='value'))\n",
    "\n",
    "def update_input_container(selected_statistics):\n",
    "    if selected_statistics =='Yearly Statistics': \n",
    "        return False\n",
    "    else: \n",
    "        return True\n",
    "\n",
    "#Callback for plotting\n",
    "# Define the callback function to update the input container based on the selected statistics\n",
    "@app.callback(\n",
    "    Output(component_id='output-container', component_property='children'),\n",
    "    [Input(component_id='dropdown-statistics', component_property='value'), Input(component_id='select-year', component_property='value')])\n",
    "\n",
    "\n",
    "def update_output_container(selected_statistics, input_year):\n",
    "    if selected_statistics == 'Recession Period Statistics':\n",
    "        # Filter the data for recession periods\n",
    "        recession_data = data[data['Recession'] == 1]\n",
    "        yearly_data = data[data['Year'] == input_year]"
   ]
  },
  {
   "cell_type": "code",
   "execution_count": 45,
   "id": "daadbfbe-0422-43dc-b258-c1e2703158af",
   "metadata": {},
   "outputs": [
    {
     "ename": "SyntaxError",
     "evalue": "'return' outside function (2899155497.py, line 35)",
     "output_type": "error",
     "traceback": [
      "\u001b[1;36m  Cell \u001b[1;32mIn[45], line 35\u001b[1;36m\u001b[0m\n\u001b[1;33m    return [\u001b[0m\n\u001b[1;37m    ^\u001b[0m\n\u001b[1;31mSyntaxError\u001b[0m\u001b[1;31m:\u001b[0m 'return' outside function\n"
     ]
    }
   ],
   "source": [
    "#TASK 2.5: Create and display graphs for Recession Report Statistics\n",
    "\n",
    "#Plot 1 Automobile sales fluctuate over Recession Period (year wise)\n",
    "        # use groupby to create relevant data for plotting\n",
    "yearly_rec=recession_data.groupby('Year')['Automobile_Sales'].mean().reset_index()\n",
    "R_chart1 = dcc.Graph(figure=px.line(yearly_rec, \n",
    "                x='Year',\n",
    "                y='Automobile_Sales',\n",
    "                title=\"Average Automobile Sales fluctuation over Recession Period\"))\n",
    "\n",
    "#Plot 2 Calculate the average number of vehicles sold by vehicle type       \n",
    "        # use groupby to create relevant data for plotting\n",
    "avg_sales = recession_data.groupby('Vehicle_Type')['Automobile_Sales'].mean().reset_index()                           \n",
    "R_chart2  = dcc.Graph(figure=px.bar(avg_sales, \n",
    "                        x=\"Vehicle_Type\",\n",
    "                        y=\"Automobile_Sales\", \n",
    "                        title=\"Average Automobile Sales by Vehicle Type in Recession Period\"))\n",
    "        \n",
    "# Plot 3 Pie chart for total expenditure share by vehicle type during recessions\n",
    "        # use groupby to create relevant data for plotting\n",
    "exp_rec= recession_data.groupby('Vehicle_Type')['Advertising_Expenditure'].sum().reset_index()\n",
    "R_chart3 = dcc.Graph(figure=px.pie(exp_rec,\n",
    "                    values='Advertising_Expenditure',\n",
    "                    names='Vehicle_Type',\n",
    "                    title=\"Expenditures shared by vehicle type during recessions\"))\n",
    "\n",
    "# Plot 4 bar chart for the effect of unemployment rate on vehicle type and sales\n",
    "unemp_rate = recession_data.groupby('unemployment_rate')['Automobile_Sales'].mean().reset_index()\n",
    "R_chart4 = dcc.Graph(figure=px.bar(unemp_rate,\n",
    "            x='unemployment_rate',\n",
    "            y='Automobile_Sales',\n",
    "            title=\"Effects of Unemployment Rate on Automobile Sales by Vehicle Type during Recession Period\"))\n",
    "\n",
    "\n",
    "return [\n",
    "        html.Div(className='chart-grid', children=[html.Div(children=R_chart1),html.Div(children=R_chart2)],style={'display': 'flex'}),\n",
    "        html.Div(className='chart-grid', children=[html.Div(children=R_chart3),html.Div(children=R_chart4)],style={'display': 'flex'})\n",
    "       ]\n"
   ]
  },
  {
   "cell_type": "code",
   "execution_count": 35,
   "id": "16bbade6-ef9e-41cd-9260-6b099fd24389",
   "metadata": {},
   "outputs": [],
   "source": [
    "yearly_rec=recession_data.groupby('Year')['Automobile_Sales'].mean().reset_index()\n",
    "R_chart1 = dcc.Graph(figure=px.line(yearly_rec, \n",
    "                x='Year',\n",
    "                y='Automobile_Sales',\n",
    "                title=\"Average Automobile Sales fluctuation over Recession Period\"))"
   ]
  },
  {
   "cell_type": "code",
   "execution_count": 36,
   "id": "20fbcad8-98b6-4403-8061-97228ca3eff4",
   "metadata": {},
   "outputs": [],
   "source": [
    "avg_sales = recession_data.groupby('Vehicle_Type')['Automobile_Sales'].mean().reset_index()                           \n",
    "R_chart2  = dcc.Graph(figure=px.bar(avg_sales, \n",
    "                        x=\"Vehicle_Type\",\n",
    "                        y=\"Automobile_Sales\", \n",
    "                        title=\"Average Automobile Sales by Vehicle Type in Recession Period\"))"
   ]
  },
  {
   "cell_type": "code",
   "execution_count": 37,
   "id": "01f88b2f-a9c4-4f07-adff-9d06fe4ac85f",
   "metadata": {},
   "outputs": [],
   "source": [
    "exp_rec= recession_data.groupby('Vehicle_Type')['Advertising_Expenditure'].sum().reset_index()\n",
    "R_chart3 = dcc.Graph(figure=px.pie(exp_rec,\n",
    "                    values='Advertising_Expenditure',\n",
    "                    names='Vehicle_Type',\n",
    "                    title=\"Expenditures shared by vehicle type during recessions\"))"
   ]
  },
  {
   "cell_type": "code",
   "execution_count": 43,
   "id": "dd98f1bc-1f6d-4b05-b13b-6b78ef1f7ad8",
   "metadata": {},
   "outputs": [
    {
     "ename": "SyntaxError",
     "evalue": "'return' outside function (3522548343.py, line 8)",
     "output_type": "error",
     "traceback": [
      "\u001b[1;36m  Cell \u001b[1;32mIn[43], line 8\u001b[1;36m\u001b[0m\n\u001b[1;33m    return [ html.Div(className='chart-grid', children=[html.Div(children=R_chart1),html.Div(children=R_chart2)],style={'display': 'flex'}),\u001b[0m\n\u001b[1;37m    ^\u001b[0m\n\u001b[1;31mSyntaxError\u001b[0m\u001b[1;31m:\u001b[0m 'return' outside function\n"
     ]
    }
   ],
   "source": [
    "unemp_rate = recession_data.groupby('unemployment_rate')['Automobile_Sales'].mean().reset_index()\n",
    "R_chart4 = dcc.Graph(figure=px.bar(unemp_rate,\n",
    "            x='unemployment_rate',\n",
    "            y='Automobile_Sales',\n",
    "            title=\"Effects of Unemployment Rate on Automobile Sales by Vehicle Type during Recession Period\"))  \n",
    "\n",
    "\n",
    "return [ html.Div(className='chart-grid', children=[html.Div(children=R_chart1),html.Div(children=R_chart2)],style={'display': 'flex'}),\n",
    "         html.Div(className='chart-grid', children=[html.Div(children=R_chart3),html.Div(children=R_chart4)],style={'display': 'flex'})\n",
    "       ]"
   ]
  },
  {
   "cell_type": "code",
   "execution_count": 47,
   "id": "c3f88b37-cee7-4f81-bd48-d48ceaaa040f",
   "metadata": {},
   "outputs": [
    {
     "ename": "SyntaxError",
     "evalue": "invalid syntax (4219757428.py, line 3)",
     "output_type": "error",
     "traceback": [
      "\u001b[1;36m  Cell \u001b[1;32mIn[47], line 3\u001b[1;36m\u001b[0m\n\u001b[1;33m    elif (input_year and selected_statistics=='Yearly Statistics') :\u001b[0m\n\u001b[1;37m    ^\u001b[0m\n\u001b[1;31mSyntaxError\u001b[0m\u001b[1;31m:\u001b[0m invalid syntax\n"
     ]
    }
   ],
   "source": [
    "\n",
    "# TASK 2.6: Create and display graphs for Yearly Report Statistics\n",
    " # Yearly Statistic Report Plots                             \n",
    "elif (input_year and selected_statistics=='Yearly Statistics') :\n",
    "yearly_data = data[data['Year'] == input_year]\n",
    "                              \n",
    "#TASK 2.5: Creating Graphs Yearly data\n",
    "                              \n",
    "#plot 1 Yearly Automobile sales using line chart for the whole period.\n",
    "yas= data.groupby('Year')['Automobile_Sales'].mean().reset_index()\n",
    "Y_chart1 = dcc.Graph(figure=px.line(yas, \n",
    "                x=\"Year\",\n",
    "                y=\"Automobile_Sales\",\n",
    "                title=\"Automobile Sales in the Year\"))\n",
    "            \n",
    "# Plot 2 Total Monthly Automobile sales using line chart.\n",
    "mas = yearly_data.groupby('Month')['Automobile_Sales'].sum().reset_index()\n",
    "Y_chart2 = dcc.Graph(figure=px.line(mas,\n",
    "                x='Month',\n",
    "                y='Automobile_Sales',\n",
    "                title='Monthly Automobile Sales'))\n",
    "\n",
    "# Plot bar chart for average number of vehicles sold during the given year\n",
    "avr_data=yearly_data.groupby('Vehicle_Type')['Automobile_Sales'].mean().reset_index()\n",
    "Y_chart3 = dcc.Graph(figure=px.bar(avr_data, \n",
    "                x=\"Vehicle_Type\", \n",
    "                y=\"Automobile_Sales\",\n",
    "                title='Average Vehicles Sold by Vehicle Type in the year {}'.format(input_year)))\n",
    "\n",
    "# Total Advertisement Expenditure for each vehicle using pie chart\n",
    "exp_data = yearly_data.groupby('Vehicle_Type')['Advertising_Expenditure'].sum().reset_index()\n",
    "Y_chart4 = dcc.Graph(figure=px.pie(exp_data,\n",
    "                        values='Advertising_Expenditure',\n",
    "                        names='Vehicle_Type',\n",
    "                        title='Total Advertising Expenditure by Vehicle Type'))\n",
    "\n",
    "#TASK 2.6: Returning the graphs for displaying Yearly data\n",
    "return [\n",
    "        html.Div(className='chart-grid', children=[html.Div(children=Y_chart1),html.Div(children=Y_chart2)],style={'display': 'flex'}),\n",
    "        html.Div(className='chart-grid', children=[html.Div(children=Y_chart3),html.Div(children=Y_chart4)],style={'display': 'flex'})\n",
    "       ]\n",
    "        \n",
    "else:\n",
    "     return None\n",
    "\n",
    "# Run the Dash app\n",
    "if __name__ == '__main__':\n",
    "    app.run_server(debug=True)\n"
   ]
  },
  {
   "cell_type": "code",
   "execution_count": null,
   "id": "fee51286-09c4-4586-bf0a-252d88683834",
   "metadata": {},
   "outputs": [],
   "source": []
  }
 ],
 "metadata": {
  "kernelspec": {
   "display_name": "Python 3 (ipykernel)",
   "language": "python",
   "name": "python3"
  },
  "language_info": {
   "codemirror_mode": {
    "name": "ipython",
    "version": 3
   },
   "file_extension": ".py",
   "mimetype": "text/x-python",
   "name": "python",
   "nbconvert_exporter": "python",
   "pygments_lexer": "ipython3",
   "version": "3.12.4"
  }
 },
 "nbformat": 4,
 "nbformat_minor": 5
}
